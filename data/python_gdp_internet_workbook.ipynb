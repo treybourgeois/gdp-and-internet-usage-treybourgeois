{
 "cells": [
  {
   "cell_type": "code",
   "execution_count": null,
   "metadata": {},
   "outputs": [],
   "source": [
    "import pandas as pd\n",
    "import numpy as np\n",
    "import matplotlib.pyplot as plt\n",
    "import seaborn as sns\n",
    "%matplotlib inline"
   ]
  },
  {
   "cell_type": "markdown",
   "metadata": {},
   "source": [
    "# 5. / 6. \n",
    "# Using the pandas read_csv() method, read the GDP dataset into your notebook as a DataFrame called gdp_df. \n",
    "#Repeat for the internet use dataset. Call this DataFrame internet_df. Take a look at the first six rows.\n",
    "gdp_df = pd.read_csv('gdp_percapita.csv.csv')\n",
    "print(gdp_df)\n",
    "\n",
    "internet_df = pd.read_csv('internet_use.csv.csv', error_bad_lines = False)\n",
    "print(internet_df)"
   ]
  },
  {
   "cell_type": "markdown",
   "metadata": {},
   "source": [
    "#5.#Take a look at the first 6 rows.\n",
    "gdp_df.head(6)\n",
    "internet_df.head(6)"
   ]
  },
  {
   "cell_type": "markdown",
   "metadata": {},
   "source": [
    "#7.\n",
    "#Look at the shape of each DataFrame - how many rows? How many columns?\n",
    "#gdp_df = [6608 rows x 4 columns]\n",
    "#internet_df = [4677 rows x 5 columns]"
   ]
  },
  {
   "cell_type": "markdown",
   "metadata": {},
   "source": [
    "#8.\n",
    "#Take a look at the datatypes for the columns in each DataFrame\n",
    "print(type(gdp_df))\n",
    "print(type(internet_df))"
   ]
  },
  {
   "cell_type": "markdown",
   "metadata": {},
   "source": [
    "#9.a\n",
    "gdp_df.tail(10)"
   ]
  },
  {
   "cell_type": "markdown",
   "metadata": {},
   "source": [
    "#9. b\n",
    "internet_df.tail(10)"
   ]
  },
  {
   "cell_type": "markdown",
   "metadata": {},
   "source": [
    "#10.Drop the value footnotes column from both DataFrames. Check that this worked as expected.\n",
    "gdp_df.drop(columns=internet_df.columns[-1], \n",
    "        axis=1, \n",
    "        inplace=True)\n",
    "\n",
    "\n",
    "\n"
   ]
  },
  {
   "cell_type": "markdown",
   "metadata": {},
   "source": [
    "internet_df.drop(columns=internet_df.columns[-1], \n",
    "        axis=1, \n",
    "        inplace=True)\n"
   ]
  },
  {
   "cell_type": "markdown",
   "metadata": {},
   "source": [
    "#10 -  Check that this worked as expected.\n",
    "print(gdp_df)\n",
    "print(internet_df)"
   ]
  },
  {
   "cell_type": "markdown",
   "metadata": {},
   "source": [
    "#11- Change the columns for the GDP Per Capita DataFrame to ‘Country’, ‘Year’, and ‘GDP_Per_Capita’.\n",
    "gdp_df.columns =['Country', 'Year', 'GDP_Per_Capita']\n",
    "print(gdp_df)"
   ]
  },
  {
   "cell_type": "markdown",
   "metadata": {},
   "source": [
    "#12 - Change the columns for the Internet Users DataFrame to ‘Country’, ‘Year’, and ‘Internet_Users_Pct’.\n",
    "internet_df.columns =['Country', 'Year', 'Internet_Users_Pct']\n",
    "print(internet_df.head())"
   ]
  },
  {
   "cell_type": "code",
   "execution_count": 266,
   "metadata": {},
   "outputs": [],
   "source": [
    "#13 - Merge the two DataFrames to one. Merge all rows from each of the two DataFrames. Call the new DataFrame gdp_and_internet_use.\n",
    "gdp_and_internet_use = pd.merge(gdp_df, internet_df)\n",
    "#14 - Look at the first five rows of your new DataFrame to confirm it merged correctly.\n",
    "\n"
   ]
  },
  {
   "cell_type": "markdown",
   "metadata": {},
   "source": [
    "#15 - Look at the last five rows to make sure the data is clean and as expected.\n",
    "# -- come back to this?? One troublesome line is still populating.. \n",
    "gdp_and_internet_use.tail(5)"
   ]
  },
  {
   "cell_type": "markdown",
   "metadata": {},
   "source": [
    "#16. -- Subset the combined DataFrame to keep only the data for 2004, 2009, and 2014. Check that this happened correctly.\n",
    "filtered_years = gdp_and_internet_use[(gdp_and_internet_use.Year == '2004') | (gdp_and_internet_use.Year == '2009') | (gdp_and_internet_use.Year == '2014')]\n"
   ]
  },
  {
   "cell_type": "markdown",
   "metadata": {},
   "source": [
    "#17 -- Create three new DataFrames, one for 2004, one for 2009, and one for 2014. Give them meaningful names that aren't too long\n",
    "df_04 = gdp_and_internet_use[gdp_and_internet_use.Year == '2004']\n",
    "df_09 = gdp_and_internet_use[gdp_and_internet_use.Year == '2009']\n",
    "df_14 = gdp_and_internet_use[gdp_and_internet_use.Year == '2014']\n",
    "\n",
    "print(df_04)"
   ]
  },
  {
   "cell_type": "markdown",
   "metadata": {},
   "source": [
    "# -- confirming new variable \"filtered_years\" \n",
    "print(filtered_years)"
   ]
  },
  {
   "cell_type": "markdown",
   "metadata": {},
   "source": [
    "#18 -- Which country had the highest percentage of internet users in 2014? What was the percentage? (Try typing the first 3 letters of your DataFrame name and hitting the tab key for auto-complete options).\n",
    "df_14.sort_values('Internet_Users_Pct', ascending=False)\n",
    "#Iceland with %98.16\n",
    "\n"
   ]
  },
  {
   "cell_type": "markdown",
   "metadata": {},
   "source": [
    "#19 -- Which country had the lowest percentage of internet users in 2014? What was the percentage?\n",
    "df_14.sort_values('Internet_Users_Pct', ascending=True)\n",
    "#East-Timor with %1.14"
   ]
  },
  {
   "cell_type": "markdown",
   "metadata": {},
   "source": [
    "#20 -- Repeat for 2004 HIGHEST\n",
    "df_04.sort_values('Internet_Users_Pct', ascending=False)\n",
    "#Belize with %9.8\n"
   ]
  },
  {
   "cell_type": "markdown",
   "metadata": {},
   "source": [
    "#20 -- Repeat for 2004 LOWEST\n",
    "df_04.sort_values('Internet_Users_Pct', ascending=True)\n",
    "#Myanmar with %.02"
   ]
  },
  {
   "cell_type": "markdown",
   "metadata": {},
   "source": [
    "#20 -- Repeat for 2009 HIGHEST\n",
    "df_09.sort_values('Internet_Users_Pct', ascending=False)\n",
    "#Iceland with %93"
   ]
  },
  {
   "cell_type": "code",
   "execution_count": 288,
   "metadata": {},
   "outputs": [
    {
     "data": {
      "text/html": [
       "<div>\n",
       "<style scoped>\n",
       "    .dataframe tbody tr th:only-of-type {\n",
       "        vertical-align: middle;\n",
       "    }\n",
       "\n",
       "    .dataframe tbody tr th {\n",
       "        vertical-align: top;\n",
       "    }\n",
       "\n",
       "    .dataframe thead th {\n",
       "        text-align: right;\n",
       "    }\n",
       "</style>\n",
       "<table border=\"1\" class=\"dataframe\">\n",
       "  <thead>\n",
       "    <tr style=\"text-align: right;\">\n",
       "      <th></th>\n",
       "      <th>Country</th>\n",
       "      <th>Year</th>\n",
       "      <th>GDP_Per_Capita</th>\n",
       "      <th>Internet_Users_Pct</th>\n",
       "    </tr>\n",
       "  </thead>\n",
       "  <tbody>\n",
       "    <tr>\n",
       "      <th>3071</th>\n",
       "      <td>Timor-Leste</td>\n",
       "      <td>2009</td>\n",
       "      <td>2724.834868</td>\n",
       "      <td>0.18525151</td>\n",
       "    </tr>\n",
       "    <tr>\n",
       "      <th>2106</th>\n",
       "      <td>Myanmar</td>\n",
       "      <td>2009</td>\n",
       "      <td>2874.780227</td>\n",
       "      <td>0.22</td>\n",
       "    </tr>\n",
       "    <tr>\n",
       "      <th>2712</th>\n",
       "      <td>Sierra Leone</td>\n",
       "      <td>2009</td>\n",
       "      <td>1372.392285</td>\n",
       "      <td>0.26</td>\n",
       "    </tr>\n",
       "    <tr>\n",
       "      <th>549</th>\n",
       "      <td>Cambodia</td>\n",
       "      <td>2009</td>\n",
       "      <td>2603.583778</td>\n",
       "      <td>0.53</td>\n",
       "    </tr>\n",
       "    <tr>\n",
       "      <th>993</th>\n",
       "      <td>Ethiopia</td>\n",
       "      <td>2009</td>\n",
       "      <td>1150.206179</td>\n",
       "      <td>0.54</td>\n",
       "    </tr>\n",
       "    <tr>\n",
       "      <th>...</th>\n",
       "      <td>...</td>\n",
       "      <td>...</td>\n",
       "      <td>...</td>\n",
       "      <td>...</td>\n",
       "    </tr>\n",
       "    <tr>\n",
       "      <th>3220</th>\n",
       "      <td>Uganda</td>\n",
       "      <td>2009</td>\n",
       "      <td>1817.449681</td>\n",
       "      <td>9.78</td>\n",
       "    </tr>\n",
       "    <tr>\n",
       "      <th>1320</th>\n",
       "      <td>Honduras</td>\n",
       "      <td>2009</td>\n",
       "      <td>4787.866688</td>\n",
       "      <td>9.8</td>\n",
       "    </tr>\n",
       "    <tr>\n",
       "      <th>2959</th>\n",
       "      <td>Sweden</td>\n",
       "      <td>2009</td>\n",
       "      <td>46185.526525</td>\n",
       "      <td>91</td>\n",
       "    </tr>\n",
       "    <tr>\n",
       "      <th>2280</th>\n",
       "      <td>Norway</td>\n",
       "      <td>2009</td>\n",
       "      <td>60620.334503</td>\n",
       "      <td>92.08</td>\n",
       "    </tr>\n",
       "    <tr>\n",
       "      <th>1365</th>\n",
       "      <td>Iceland</td>\n",
       "      <td>2009</td>\n",
       "      <td>48428.312438</td>\n",
       "      <td>93</td>\n",
       "    </tr>\n",
       "  </tbody>\n",
       "</table>\n",
       "<p>161 rows × 4 columns</p>\n",
       "</div>"
      ],
      "text/plain": [
       "           Country  Year  GDP_Per_Capita Internet_Users_Pct\n",
       "3071   Timor-Leste  2009     2724.834868         0.18525151\n",
       "2106       Myanmar  2009     2874.780227               0.22\n",
       "2712  Sierra Leone  2009     1372.392285               0.26\n",
       "549       Cambodia  2009     2603.583778               0.53\n",
       "993       Ethiopia  2009     1150.206179               0.54\n",
       "...            ...   ...             ...                ...\n",
       "3220        Uganda  2009     1817.449681               9.78\n",
       "1320      Honduras  2009     4787.866688                9.8\n",
       "2959        Sweden  2009    46185.526525                 91\n",
       "2280        Norway  2009    60620.334503              92.08\n",
       "1365       Iceland  2009    48428.312438                 93\n",
       "\n",
       "[161 rows x 4 columns]"
      ]
     },
     "execution_count": 288,
     "metadata": {},
     "output_type": "execute_result"
    }
   ],
   "source": [
    "#20 -- Repeat for 2009 LOWEST\n",
    "df_09.sort_values('Internet_Users_Pct', ascending=True)\n",
    "#East-Timor with %.19"
   ]
  },
  {
   "cell_type": "code",
   "execution_count": null,
   "metadata": {},
   "outputs": [],
   "source": []
  }
 ],
 "metadata": {
  "kernelspec": {
   "display_name": "Python 3",
   "language": "python",
   "name": "python3"
  },
  "language_info": {
   "codemirror_mode": {
    "name": "ipython",
    "version": 3
   },
   "file_extension": ".py",
   "mimetype": "text/x-python",
   "name": "python",
   "nbconvert_exporter": "python",
   "pygments_lexer": "ipython3",
   "version": "3.8.5"
  }
 },
 "nbformat": 4,
 "nbformat_minor": 4
}
